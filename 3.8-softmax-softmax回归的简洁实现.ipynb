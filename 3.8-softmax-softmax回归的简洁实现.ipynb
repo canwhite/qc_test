{
 "cells": [
  {
   "cell_type": "code",
   "execution_count": 2,
   "metadata": {},
   "outputs": [],
   "source": [
    "%matplotlib inline\n",
    "import d2lzh as d2l\n",
    "from mxnet import gluon,init\n",
    "from mxnet.gluon import loss as gloss,nn"
   ]
  },
  {
   "cell_type": "code",
   "execution_count": 3,
   "metadata": {},
   "outputs": [],
   "source": [
    "'''获取和读取数据'''\n",
    "batch_size = 256\n",
    "train_iter,test_iter = d2l.load_data_fashion_mnist(batch_size);"
   ]
  },
  {
   "cell_type": "code",
   "execution_count": 4,
   "metadata": {},
   "outputs": [],
   "source": [
    "'''定义和初始化模型'''\n",
    "#我们添加一个输出个数为10的全连接层。\n",
    "#我们使用均值为0、标准差为0.01的正态分布随机初始化模型的权重参数\n",
    "\n",
    "net = nn.Sequential();#在Gluon中，Sequential实例可以看作是一个串联各个层的容器\n",
    "net.add(nn.Dense(10));#在Gluon中，全连接层是一个Dense实例，我们定义该层输出个数为10\n",
    "net.initialize(init.Normal(sigma=0.01));\n"
   ]
  },
  {
   "cell_type": "code",
   "execution_count": 5,
   "metadata": {},
   "outputs": [],
   "source": [
    "'''softmax和交叉熵损失函数'''\n",
    "#分开定义softmax运算和交叉熵损失函数可能会造成数值不稳定\n",
    "#因此，Gluon提供了一个包括softmax运算和交叉熵损失计算的函数，它的数值稳定性更好\n",
    "loss = gloss.SoftmaxCrossEntropyLoss()"
   ]
  },
  {
   "cell_type": "code",
   "execution_count": 6,
   "metadata": {},
   "outputs": [],
   "source": [
    "'''定义优化算法'''\n",
    "#我们使用学习率为0.1的小批量随机梯度下降作为优化算法。\n",
    "trainer = gluon.Trainer(net.collect_params(),'sgd',{'learning_rate':0.1});"
   ]
  },
  {
   "cell_type": "code",
   "execution_count": 7,
   "metadata": {},
   "outputs": [
    {
     "name": "stdout",
     "output_type": "stream",
     "text": [
      "epoch 1, loss 0.7892, train acc 0.746, test acc 0.805\n",
      "epoch 2, loss 0.5743, train acc 0.812, test acc 0.822\n",
      "epoch 3, loss 0.5299, train acc 0.823, test acc 0.831\n",
      "epoch 4, loss 0.5066, train acc 0.830, test acc 0.837\n",
      "epoch 5, loss 0.4884, train acc 0.836, test acc 0.838\n"
     ]
    }
   ],
   "source": [
    "'''训练模型'''\n",
    "#训练几轮的问题\n",
    "num_epochs = 5\n",
    "d2l.train_ch3(net,train_iter,test_iter,loss,num_epochs,batch_size,None,None,trainer);\n",
    "\n"
   ]
  },
  {
   "cell_type": "code",
   "execution_count": null,
   "metadata": {},
   "outputs": [],
   "source": []
  }
 ],
 "metadata": {
  "kernelspec": {
   "display_name": "Python 3",
   "language": "python",
   "name": "python3"
  },
  "language_info": {
   "codemirror_mode": {
    "name": "ipython",
    "version": 3
   },
   "file_extension": ".py",
   "mimetype": "text/x-python",
   "name": "python",
   "nbconvert_exporter": "python",
   "pygments_lexer": "ipython3",
   "version": "3.7.6"
  }
 },
 "nbformat": 4,
 "nbformat_minor": 4
}
