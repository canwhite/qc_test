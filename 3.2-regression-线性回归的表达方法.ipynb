{
 "cells": [
  {
   "cell_type": "code",
   "execution_count": 1,
   "metadata": {},
   "outputs": [
    {
     "data": {
      "text/plain": [
       "'\\n线性回归和神经网络之间的关系\\n使用神经网络图表现本节中介绍的线性回归模型\\n\\n输出层    o\\n\\n输入层 x1    x2\\n\\nx1和x2共同指向o\\n\\n输入层的输入个数为2，输入个数也叫做特征数（或者特征向量维度）\\n\\n层数：神经网络的层数为1，\\n\\n所以，线性回归是一种单层神经网络\\n\\n神经元：输出层中负责计算o的单元又叫做神经元\\n\\no的计算依赖于x1和x2；  输出层中的神经元和输入层中各个输入完全连接\\n\\n这里的输出层又叫做全连接（或者稠密层）\\n\\n'"
      ]
     },
     "execution_count": 1,
     "metadata": {},
     "output_type": "execute_result"
    }
   ],
   "source": [
    "'''\n",
    "线性回归和神经网络之间的关系\n",
    "使用神经网络图表现本节中介绍的线性回归模型\n",
    "\n",
    "输出层    o\n",
    "\n",
    "输入层 x1    x2\n",
    "\n",
    "x1和x2共同指向o\n",
    "\n",
    "特征数：输入层的输入个数为2，输入个数也叫做特征数\n",
    "\n",
    "层数：神经网络的层数为1，所以，线性回归是一种单层神经网络\n",
    "\n",
    "神经元：输出层中负责计算o的单元又叫做神经元\n",
    "\n",
    "o的计算依赖于x1和x2；  输出层中的神经元和输入层中各个输入完全连接\n",
    "\n",
    "这里的输出层又叫做全连接（或者稠密层）\n",
    "\n",
    "'''\n"
   ]
  },
  {
   "cell_type": "code",
   "execution_count": 2,
   "metadata": {},
   "outputs": [],
   "source": [
    "'''介绍线性回归的矢量计算表达式之前，先学习一下两个向量相加的方法'''\n",
    "from mxnet import nd;\n",
    "from time import time;\n",
    "\n",
    "#先定义两个1000维的向量\n",
    "a = nd.ones(shape=100);\n",
    "b = nd.ones(shape=100);"
   ]
  },
  {
   "cell_type": "code",
   "execution_count": 3,
   "metadata": {},
   "outputs": [
    {
     "name": "stdout",
     "output_type": "stream",
     "text": [
      "0.019911766052246094\n",
      "\n",
      "[2. 2. 2. 2. 2. 2. 2. 2. 2. 2. 2. 2. 2. 2. 2. 2. 2. 2. 2. 2. 2. 2. 2. 2.\n",
      " 2. 2. 2. 2. 2. 2. 2. 2. 2. 2. 2. 2. 2. 2. 2. 2. 2. 2. 2. 2. 2. 2. 2. 2.\n",
      " 2. 2. 2. 2. 2. 2. 2. 2. 2. 2. 2. 2. 2. 2. 2. 2. 2. 2. 2. 2. 2. 2. 2. 2.\n",
      " 2. 2. 2. 2. 2. 2. 2. 2. 2. 2. 2. 2. 2. 2. 2. 2. 2. 2. 2. 2. 2. 2. 2. 2.\n",
      " 2. 2. 2. 2.]\n",
      "<NDArray 100 @cpu(0)>\n"
     ]
    }
   ],
   "source": [
    "'''（1）两个向量按照元素逐一做标量加法'''\n",
    "#顺带我们通过时间函数研究一下这样处理的时间\n",
    "start = time();\n",
    "c = nd.zeros(shape=100);\n",
    "for i in range(100):\n",
    "    c[i] = a[i] + b[i];\n",
    "\n",
    "print(time() - start);\n",
    "print(c)"
   ]
  },
  {
   "cell_type": "code",
   "execution_count": 4,
   "metadata": {},
   "outputs": [
    {
     "name": "stdout",
     "output_type": "stream",
     "text": [
      "0.0009961128234863281\n",
      "\n",
      "[2. 2. 2. 2. 2. 2. 2. 2. 2. 2. 2. 2. 2. 2. 2. 2. 2. 2. 2. 2. 2. 2. 2. 2.\n",
      " 2. 2. 2. 2. 2. 2. 2. 2. 2. 2. 2. 2. 2. 2. 2. 2. 2. 2. 2. 2. 2. 2. 2. 2.\n",
      " 2. 2. 2. 2. 2. 2. 2. 2. 2. 2. 2. 2. 2. 2. 2. 2. 2. 2. 2. 2. 2. 2. 2. 2.\n",
      " 2. 2. 2. 2. 2. 2. 2. 2. 2. 2. 2. 2. 2. 2. 2. 2. 2. 2. 2. 2. 2. 2. 2. 2.\n",
      " 2. 2. 2. 2.]\n",
      "<NDArray 100 @cpu(0)>\n"
     ]
    },
    {
     "data": {
      "text/plain": [
       "'很明显，后者比前者更省时，所以我们尽可能做矢量计算'"
      ]
     },
     "execution_count": 4,
     "metadata": {},
     "output_type": "execute_result"
    }
   ],
   "source": [
    "'''(2)直接做矢量加法'''\n",
    "start = time()\n",
    "d = a + b;\n",
    "print(time() - start);\n",
    "print(d)\n",
    "'''很明显，后者比前者更省时，所以我们尽可能做矢量计算'''"
   ]
  },
  {
   "cell_type": "code",
   "execution_count": 7,
   "metadata": {},
   "outputs": [
    {
     "data": {
      "text/plain": [
       "\n",
       "[11. 11. 11.]\n",
       "<NDArray 3 @cpu(0)>"
      ]
     },
     "execution_count": 7,
     "metadata": {},
     "output_type": "execute_result"
    }
   ],
   "source": [
    "'''对三个房屋样本预测价格的矢量计算表达式为： \n",
    "\n",
    "y = Xw  + b\n",
    "\n",
    "可以将三个等式转化为矢量计算\n",
    "============================\n",
    "y是三行一列\n",
    "X是三行两列，因为有两个变量\n",
    "w是两行一列\n",
    "===============================\n",
    "其中的加法运算使用了广播机制\n",
    "\n",
    "'''\n",
    "\n",
    "a = nd.ones(shape=3);\n",
    "b = 10;\n",
    "a + b\n",
    "\n",
    "\n"
   ]
  },
  {
   "cell_type": "code",
   "execution_count": 8,
   "metadata": {},
   "outputs": [
    {
     "data": {
      "text/plain": [
       "'\\n小结\\n\\n\\n'"
      ]
     },
     "execution_count": 8,
     "metadata": {},
     "output_type": "execute_result"
    }
   ],
   "source": [
    "'''\n",
    "小结:\n",
    "1.和大多数深度学习模型一样，对于线性会对这种单层神经网络\n",
    "它的基本要素包含\n",
    "模型、\n",
    "训练数据、\n",
    "损失函数\n",
    "优化算法\n",
    "\n",
    "\n",
    "2、既可以用神经网络图表示线性回归，又可以用矢量计算表示该模型\n",
    "\n",
    "3、应该尽可能用矢量计算，以提升计算效率\n",
    "\n",
    "'''"
   ]
  },
  {
   "cell_type": "code",
   "execution_count": null,
   "metadata": {},
   "outputs": [],
   "source": []
  }
 ],
 "metadata": {
  "kernelspec": {
   "display_name": "Python 3",
   "language": "python",
   "name": "python3"
  },
  "language_info": {
   "codemirror_mode": {
    "name": "ipython",
    "version": 3
   },
   "file_extension": ".py",
   "mimetype": "text/x-python",
   "name": "python",
   "nbconvert_exporter": "python",
   "pygments_lexer": "ipython3",
   "version": "3.7.6"
  }
 },
 "nbformat": 4,
 "nbformat_minor": 4
}
