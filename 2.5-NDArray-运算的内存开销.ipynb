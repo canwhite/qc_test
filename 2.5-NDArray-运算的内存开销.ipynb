{
 "cells": [
  {
   "cell_type": "code",
   "execution_count": 27,
   "metadata": {},
   "outputs": [
    {
     "data": {
      "text/plain": [
       "\n",
       "[[1. 2. 3. 4.]\n",
       " [1. 2. 3. 4.]\n",
       " [1. 2. 3. 4.]]\n",
       "<NDArray 3x4 @cpu(0)>"
      ]
     },
     "execution_count": 27,
     "metadata": {},
     "output_type": "execute_result"
    }
   ],
   "source": [
    "from mxnet import nd;\n",
    "x=nd.arange(12);\n",
    "x\n",
    "X = x.reshape((3,4));\n",
    "X\n",
    "Y = nd.array([[1,2,3,4],[1,2,3,4],[1,2,3,4]])\n",
    "Y"
   ]
  },
  {
   "cell_type": "code",
   "execution_count": 28,
   "metadata": {},
   "outputs": [
    {
     "data": {
      "text/plain": [
       "False"
      ]
     },
     "execution_count": 28,
     "metadata": {},
     "output_type": "execute_result"
    }
   ],
   "source": [
    "#在前边的例子，我们对每个操作新开内存来存储运算结果\n",
    "#我们可以使用python自带的id函数，如果两个对象的id相同，则返回true\n",
    "before = id(Y);\n",
    "Y=X+Y;\n",
    "id(Y)==before"
   ]
  },
  {
   "cell_type": "code",
   "execution_count": 29,
   "metadata": {},
   "outputs": [
    {
     "data": {
      "text/plain": [
       "True"
      ]
     },
     "execution_count": 29,
     "metadata": {},
     "output_type": "execute_result"
    }
   ],
   "source": [
    "#如果想指定结果到特定内存，我们可以使用前边的索引进行替换操作\n",
    "#zeros_like可以创建一个和其他NDArray形状相同，但是元素为0的NDArray\n",
    "Z = Y.zeros_like();\n",
    "bef = id(Z);\n",
    "#用X+Y得到的值通过索引替换原来的Z元素值\n",
    "Z[:]=X+Y;\n",
    "id(Z)==bef"
   ]
  },
  {
   "cell_type": "code",
   "execution_count": 30,
   "metadata": {},
   "outputs": [
    {
     "data": {
      "text/plain": [
       "True"
      ]
     },
     "execution_count": 30,
     "metadata": {},
     "output_type": "execute_result"
    }
   ],
   "source": [
    "#实际上，上例中我们还是新开了临时内存来存储X+Y\n",
    "#如果想避免这种内存开销，我们可以使用全名函数中的out参数\n",
    "N = Y.zeros_like();\n",
    "be = id(N);\n",
    "nd.elemwise_add(X,Y,out=N)\n",
    "id(N)==be\n"
   ]
  },
  {
   "cell_type": "code",
   "execution_count": 32,
   "metadata": {},
   "outputs": [
    {
     "data": {
      "text/plain": [
       "True"
      ]
     },
     "execution_count": 32,
     "metadata": {},
     "output_type": "execute_result"
    }
   ],
   "source": [
    "#如果X的值在之后的程序中不会复用，那么我们也可以使用X[:]=X+Y;或者X+=Y,来减少内存消耗\n",
    "b = id(X);\n",
    "X+=Y;\n",
    "id(X)==b"
   ]
  },
  {
   "cell_type": "code",
   "execution_count": null,
   "metadata": {},
   "outputs": [],
   "source": []
  }
 ],
 "metadata": {
  "kernelspec": {
   "display_name": "Python 3",
   "language": "python",
   "name": "python3"
  },
  "language_info": {
   "codemirror_mode": {
    "name": "ipython",
    "version": 3
   },
   "file_extension": ".py",
   "mimetype": "text/x-python",
   "name": "python",
   "nbconvert_exporter": "python",
   "pygments_lexer": "ipython3",
   "version": "3.7.6"
  }
 },
 "nbformat": 4,
 "nbformat_minor": 4
}
