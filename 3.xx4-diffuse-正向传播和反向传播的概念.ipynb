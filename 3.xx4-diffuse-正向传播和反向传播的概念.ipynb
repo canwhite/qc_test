{
 "cells": [
  {
   "cell_type": "code",
   "execution_count": 2,
   "metadata": {},
   "outputs": [
    {
     "data": {
      "text/plain": [
       "'正向传播、反向传播和计算图\\n\\n===================================================================\\n我们使⽤过小批量随机梯度下降的优化算法来训练模型。\\n在实现中我们只采用了正向传播：\\n即对输⼊计算模型输出，\\n然后通过autograd模块来调⽤系统⾃动⽣成的backward函数计算梯度\\n\\n\\n基于反向传播算法的自动求梯度，极大简化了深度学习模型训练算法的实现\\n\\n===================================================================\\n这里我们将以L2范数正则化的\\n含单隐藏层的多层感知机\\n为样例模型来解释正向传播和反向传播\\n\\n'"
      ]
     },
     "execution_count": 2,
     "metadata": {},
     "output_type": "execute_result"
    }
   ],
   "source": [
    "'''正向传播、反向传播和计算图\n",
    "\n",
    "===================================================================\n",
    "我们使⽤过小批量随机梯度下降的优化算法来训练模型。\n",
    "在实现中我们只采用了正向传播：\n",
    "即对输⼊计算模型输出，\n",
    "然后通过autograd模块来调⽤系统⾃动⽣成的backward函数计算梯度\n",
    "\n",
    "\n",
    "基于反向传播算法的自动求梯度，极大简化了深度学习模型训练算法的实现\n",
    "\n",
    "===================================================================\n",
    "这里我们将以L2范数正则化的\n",
    "含单隐藏层的多层感知机\n",
    "为样例模型来解释正向传播和反向传播\n",
    "\n",
    "'''\n"
   ]
  },
  {
   "cell_type": "code",
   "execution_count": 4,
   "metadata": {},
   "outputs": [
    {
     "data": {
      "text/plain": [
       "'\\n正向传播\\n===================================================================\\n\\n正向传播的讲解部分在印象笔记mxnet里边放着\\n\\n'"
      ]
     },
     "execution_count": 4,
     "metadata": {},
     "output_type": "execute_result"
    }
   ],
   "source": [
    "'''\n",
    "正向传播\n",
    "===================================================================\n",
    "\n",
    "正向传播的讲解部分在印象笔记mxnet里边放着\n",
    "\n",
    "'''\n"
   ]
  },
  {
   "cell_type": "code",
   "execution_count": null,
   "metadata": {},
   "outputs": [],
   "source": [
    "'''\n",
    "反向传播\n",
    "===================================================================\n",
    "\n",
    "\n",
    "\n",
    "\n",
    "'''"
   ]
  }
 ],
 "metadata": {
  "kernelspec": {
   "display_name": "Python 3",
   "language": "python",
   "name": "python3"
  },
  "language_info": {
   "codemirror_mode": {
    "name": "ipython",
    "version": 3
   },
   "file_extension": ".py",
   "mimetype": "text/x-python",
   "name": "python",
   "nbconvert_exporter": "python",
   "pygments_lexer": "ipython3",
   "version": "3.6.9"
  }
 },
 "nbformat": 4,
 "nbformat_minor": 4
}
