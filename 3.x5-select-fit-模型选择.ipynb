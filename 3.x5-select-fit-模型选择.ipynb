{
 "cells": [
  {
   "cell_type": "code",
   "execution_count": 1,
   "metadata": {},
   "outputs": [
    {
     "data": {
      "text/plain": [
       "'\\n模型选择：\\n可供选择的候选模型可以是有着不同超参数的同类模型\\n以多层感知机为例：\\n我们可以选择隐藏层的个数\\n以及每个隐藏层中隐藏单元个数和激活函数\\n\\n'"
      ]
     },
     "execution_count": 1,
     "metadata": {},
     "output_type": "execute_result"
    }
   ],
   "source": [
    "'''\n",
    "模型选择：\n",
    "\n",
    "可供选择的候选模型可以是有着不同超参数的同类模型\n",
    "\n",
    "\n",
    "以多层感知机为例：\n",
    "我们可以选择隐藏层的个数\n",
    "以及每个隐藏层中隐藏单元个数和激活函数\n",
    "\n",
    "'''"
   ]
  },
  {
   "cell_type": "code",
   "execution_count": 2,
   "metadata": {},
   "outputs": [
    {
     "data": {
      "text/plain": [
       "'\\n验证数据集：\\n\\n首先严格意义上讲：\\n（1）测试集只能使用一次，不能用来做模型选择\\n（2）不应只依赖训练数据选择模型，因为无法从训练误差估算泛化误差，\\n基于以上两点：\\n我们可以预留一部分训练数据集和测试数据集以外的数据进行模型选择\\n这部分数据叫做验证数据集（验证集）\\n\\neg:我们可以从给定的训练集中随机选取一部分作为验证集，而将剩余部分作为真正的训练集\\n\\n实际中，测试数据集和验证数据集的界限比较模糊\\n\\n'"
      ]
     },
     "execution_count": 2,
     "metadata": {},
     "output_type": "execute_result"
    }
   ],
   "source": [
    "'''\n",
    "验证数据集：\n",
    "\n",
    "首先严格意义上讲：\n",
    "（1）测试集只能使用一次，不能用来做模型选择\n",
    "（2）不应只依赖训练数据选择模型，因为无法从训练误差估算泛化误差，\n",
    "基于以上两点：\n",
    "我们可以预留一部分训练数据集和测试数据集以外的数据进行模型选择\n",
    "这部分数据叫做验证数据集（验证集）\n",
    "\n",
    "eg:我们可以从给定的训练集中随机选取一部分作为验证集，而将剩余部分作为真正的训练集\n",
    "\n",
    "实际中，测试数据集和验证数据集的界限比较模糊\n",
    "\n",
    "'''"
   ]
  },
  {
   "cell_type": "code",
   "execution_count": null,
   "metadata": {},
   "outputs": [],
   "source": [
    "'''\n",
    "k折交叉验证\n",
    "\n",
    "不预留大量的验证数据的方式：\n",
    "我们把原始数据分割成k个不重合的子数据集，然后我们做k次模型训练和验证\n",
    "\n",
    "每一次：\n",
    "我们使用一个子数据集验证模型，并使用其他k-1个子数据集来训练模型\n",
    "\n",
    "在k次训练和验证中：\n",
    "每次用来验证模型的子数据集都不同\n",
    "\n",
    "\n",
    "最后：\n",
    "我们对k次训练误差和验证误差分别求平均\n",
    "\n",
    "\n",
    "\n",
    "'''\n",
    "\n",
    "\n"
   ]
  }
 ],
 "metadata": {
  "kernelspec": {
   "display_name": "Python 3",
   "language": "python",
   "name": "python3"
  },
  "language_info": {
   "codemirror_mode": {
    "name": "ipython",
    "version": 3
   },
   "file_extension": ".py",
   "mimetype": "text/x-python",
   "name": "python",
   "nbconvert_exporter": "python",
   "pygments_lexer": "ipython3",
   "version": "3.7.6"
  }
 },
 "nbformat": 4,
 "nbformat_minor": 4
}
