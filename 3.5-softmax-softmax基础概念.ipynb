{
 "cells": [
  {
   "cell_type": "code",
   "execution_count": 1,
   "metadata": {},
   "outputs": [
    {
     "data": {
      "text/plain": [
       "'softmax回归解决分类问题，输出是多个'"
      ]
     },
     "execution_count": 1,
     "metadata": {},
     "output_type": "execute_result"
    }
   ],
   "source": [
    "'''一、softmax回归解决分类问题，输出是多个'''"
   ]
  },
  {
   "cell_type": "code",
   "execution_count": 2,
   "metadata": {},
   "outputs": [
    {
     "data": {
      "text/plain": [
       "'softmax的输出层也是一个全连接层'"
      ]
     },
     "execution_count": 2,
     "metadata": {},
     "output_type": "execute_result"
    }
   ],
   "source": [
    "'''二、softmax的输出层也是一个全连接层'''"
   ]
  },
  {
   "cell_type": "code",
   "execution_count": 3,
   "metadata": {},
   "outputs": [
    {
     "data": {
      "text/plain": [
       "'\\n如果是0.1、10、0.3，那么例子中的输出值10表示 “很置信”图像类别为猫，\\n但是如果出现两个值都为10，这时候可能是相反的结果\\n\\n'"
      ]
     },
     "execution_count": 3,
     "metadata": {},
     "output_type": "execute_result"
    }
   ],
   "source": [
    "\n",
    "'''三、softmax运算解决两个问题'''\n",
    "#Pre：一个概念：置信度\n",
    "#问题1：由于输出层的输出值的范围不确定，我们难以从直观上判断这些值的意义\n",
    "'''\n",
    "如果是0.1、10、0.3，那么例子中的输出值10表示 “很置信”图像类别为猫，\n",
    "但是如果出现两个值都为10，这时候可能是相反的结果\n",
    "\n",
    "'''\n",
    "#问题2：由于真实标签是离散值 ( 也就是我们的样本结果)，\n",
    "#这些离散值与不确定范围的输出值之间的误差难以衡量\n",
    "\n",
    "\n",
    "\n",
    "#最后，softmax运算符解决以上两个问题。它通过规则对输出层的转化，\n",
    "#将输出值变换为值为正且和为1的概率分布\n",
    "\n",
    "#PS：exp是以指数为底的函数，最终结果是三个输出的exp平均值，所以0.8以为着概率是80%\n",
    "\n"
   ]
  },
  {
   "cell_type": "code",
   "execution_count": 4,
   "metadata": {},
   "outputs": [
    {
     "data": {
      "text/plain": [
       "'单样本分类的矢量计算表达式'"
      ]
     },
     "execution_count": 4,
     "metadata": {},
     "output_type": "execute_result"
    }
   ],
   "source": [
    "'''四 、单样本分类的矢量计算表达式'''\n",
    "#这里其实就是基本的模型的获得\n",
    "#大致形态 ： o(i)= x(i)W  + b\n",
    "#然后softmax函数: y(i) = softmax(o(i))"
   ]
  },
  {
   "cell_type": "code",
   "execution_count": 5,
   "metadata": {},
   "outputs": [
    {
     "data": {
      "text/plain": [
       "'小批量样本分类的矢量计算表达式'"
      ]
     },
     "execution_count": 5,
     "metadata": {},
     "output_type": "execute_result"
    }
   ],
   "source": [
    "'''五、小批量样本分类的矢量计算表达式'''\n",
    "#为了进一步提升计算效率，我们通常对小批量数据做矢量计算，类似于上边公式的一个小实现"
   ]
  },
  {
   "cell_type": "code",
   "execution_count": null,
   "metadata": {},
   "outputs": [],
   "source": [
    "'''六、交叉熵损失函数'''\n",
    "#前边提到使用softmax可以更方便的和离散标签计算误差\n",
    "#批量大小为n，\n",
    "#输入个数为d，也就是特征值的个数为d\n",
    "#输出个数为q，也就是类别数或者是标签个数为q\n",
    "\n",
    "\n",
    "#yj是向量yi中非0即1的元素，yj是yi中的一个组成\n",
    "#交叉熵是对真实的每一个yj元素和其预测结果求的，目的是发现差距\n"
   ]
  }
 ],
 "metadata": {
  "kernelspec": {
   "display_name": "Python 3",
   "language": "python",
   "name": "python3"
  },
  "language_info": {
   "codemirror_mode": {
    "name": "ipython",
    "version": 3
   },
   "file_extension": ".py",
   "mimetype": "text/x-python",
   "name": "python",
   "nbconvert_exporter": "python",
   "pygments_lexer": "ipython3",
   "version": "3.7.6"
  }
 },
 "nbformat": 4,
 "nbformat_minor": 4
}
