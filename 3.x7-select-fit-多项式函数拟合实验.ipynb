{
 "cells": [
  {
   "cell_type": "code",
   "execution_count": 4,
   "metadata": {},
   "outputs": [],
   "source": [
    "%matplotlib inline\n",
    "import d2lzh as d2l\n",
    "from mxnet import autograd,gluon,nd\n",
    "from mxnet.gluon import data as gdata,loss as gloss,nn"
   ]
  },
  {
   "cell_type": "code",
   "execution_count": 6,
   "metadata": {},
   "outputs": [
    {
     "data": {
      "text/plain": [
       "(\n",
       " [[-0.6768301 ]\n",
       "  [-0.61593443]]\n",
       " <NDArray 2x1 @cpu(0)>,\n",
       " \n",
       " [[-0.6768301   0.458099   -0.3100552 ]\n",
       "  [-0.61593443  0.37937522 -0.23367026]]\n",
       " <NDArray 2x3 @cpu(0)>,\n",
       " \n",
       " [-0.00340771 -0.08689129]\n",
       " <NDArray 2 @cpu(0)>)"
      ]
     },
     "execution_count": 6,
     "metadata": {},
     "output_type": "execute_result"
    }
   ],
   "source": [
    "'''生成数据集'''\n",
    "#y = 1.2x − 3.4x2+ 5.6x + 5 + ϵ,\n",
    "#其中噪声ϵ服从均值为0，标准查为0.1的正态分布，训练数据集和测试数据集的样本数都设为100\n",
    "n_train,n_test,true_w,true_b = 100,100,[1.2,-3.4,5.6],5\n",
    "#单列数据\n",
    "features = nd.random.normal(shape=(n_train + n_test,1))\n",
    "#三列数据\n",
    "poly_features = nd.concat(features,nd.power(features,2),nd.power(features,3))\n",
    "#得到标签\n",
    "#这是NDArray的取某列，和python的区间选择区分开\n",
    "#这里的某列最终表现为横排数组，最终得到一个横排的结果，并不是矩阵乘法\n",
    "labels = ( true_w[0] * poly_features[:,0] + true_w[1] * poly_features[:,1] + true_w[2] * poly_features[:,2] + true_b)\n",
    "#加上噪音,噪音值服从均值为0、标准差为0.1的正态分布\n",
    "labels = nd.random.normal(scale=0.1,shape=labels.shape)\n",
    "\n",
    "#查看数据集合的前两个样本\n",
    "#python的取前几个值\n",
    "features[:2],poly_features[:2],labels[:2]\n",
    "'''\n",
    "取第一列的三个值横着排，乘以第一个权重，\n",
    "取第二列的三个值横着排，乘以第二个权重\n",
    "取第三列的三个值横着排，乘以第三个权重\n",
    "最后三个数组相加，得到一个横排的三个结果\n",
    "\n",
    "'''"
   ]
  },
  {
   "cell_type": "code",
   "execution_count": null,
   "metadata": {},
   "outputs": [],
   "source": []
  }
 ],
 "metadata": {
  "kernelspec": {
   "display_name": "Python 3",
   "language": "python",
   "name": "python3"
  },
  "language_info": {
   "codemirror_mode": {
    "name": "ipython",
    "version": 3
   },
   "file_extension": ".py",
   "mimetype": "text/x-python",
   "name": "python",
   "nbconvert_exporter": "python",
   "pygments_lexer": "ipython3",
   "version": "3.7.6"
  }
 },
 "nbformat": 4,
 "nbformat_minor": 4
}
