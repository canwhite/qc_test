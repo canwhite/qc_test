{
 "cells": [
  {
   "cell_type": "code",
   "execution_count": null,
   "metadata": {},
   "outputs": [],
   "source": [
    "#权重衰减是为了解决过拟合问题，泛化误差相对训练误差比较大\n",
    "#虽然增大训练数据集可能减轻\n",
    "'''\n",
    "权重衰减等价于L2范数正则化（regularization）。\n",
    "所谓正则化可以理解为增加筛选条件\n",
    "so：\n",
    "方法：模型损失函数添加惩罚项\n",
    "'''\n",
    "#正则化通过为模型损失函数添加惩罚项使学出的模型参数值较小，是应对过拟合的常⽤⼿段。\n",
    "#我们先描述L2范数正则化，再解释它为何⼜称权重衰减。\n",
    "'''加上惩罚项'''\n",
    "#重参数⽤向量w = [w1, w2]表⽰，带有L2范数惩罚项的新损失函数为\n",
    "#ℓ(w1, w2, b) + λ/2n * ||w||^2\n",
    "#（1）超参数λ > 0。当权重参数均为0时，惩罚项最小\n",
    "#（2）超参数λ>>0 ，λ较大的时候，惩罚项在损失函数中的比重较大，这通常会使学到的权重参数的元素较接近于0\n",
    "# why?   因为小批量随机梯度下降函数，会用权重不断减去损失函数的梯度\n",
    "# (3) 超参数λ==0 ，惩罚项完全不起作用 ；\n",
    "\n",
    "#L2范数平⽅||w||^2得到w1^2 + w2^2\n",
    "\n",
    "\n"
   ]
  }
 ],
 "metadata": {
  "kernelspec": {
   "display_name": "Python 3",
   "language": "python",
   "name": "python3"
  },
  "language_info": {
   "codemirror_mode": {
    "name": "ipython",
    "version": 3
   },
   "file_extension": ".py",
   "mimetype": "text/x-python",
   "name": "python",
   "nbconvert_exporter": "python",
   "pygments_lexer": "ipython3",
   "version": "3.6.9"
  }
 },
 "nbformat": 4,
 "nbformat_minor": 4
}
