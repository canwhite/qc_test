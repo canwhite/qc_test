{
 "cells": [
  {
   "cell_type": "code",
   "execution_count": null,
   "metadata": {},
   "outputs": [],
   "source": [
    "'''\n",
    "对隐藏使用丢弃法的时候，隐藏单元有一定的概率被丢弃掉\n",
    "设丢弃概率为p，\n",
    "那么有p的概率隐藏单元会被丢弃，\n",
    "有1-p的概率隐藏单元会被保留\n",
    "有1-p的概率的隐藏单元会除以1-p做拉伸。\n",
    "==============================\n",
    "丢弃概率是丢弃法的超参数\n",
    "==============================\n",
    "设ξi为0或者1的概率分别为p和1-p\n",
    "\n",
    "使⽤丢弃法时我们计算新的隐藏单元h′i\n",
    "\n",
    "h′i =（ξi/（1 − p））* hi\n",
    "\n",
    "================================\n",
    "又因为\n",
    "E(ξi) = 0*p +1*(1-p) =  1 − p\n",
    "so：\n",
    "E(h′i) = E(ξi)/(1 − p) * hi = hi\n",
    "丢弃法不改变输入的期望值，也就是说不改变输入的平均值\n",
    "================================\n",
    "输出层的计算⽆法过度依赖h1, . . . , h5中的任⼀个，从而在训练模型时起到正则化的\n",
    "作⽤，并可以⽤来应对过拟合。\n",
    "\n",
    "'''"
   ]
  }
 ],
 "metadata": {
  "kernelspec": {
   "display_name": "Python 3",
   "language": "python",
   "name": "python3"
  },
  "language_info": {
   "codemirror_mode": {
    "name": "ipython",
    "version": 3
   },
   "file_extension": ".py",
   "mimetype": "text/x-python",
   "name": "python",
   "nbconvert_exporter": "python",
   "pygments_lexer": "ipython3",
   "version": "3.7.6"
  }
 },
 "nbformat": 4,
 "nbformat_minor": 4
}
