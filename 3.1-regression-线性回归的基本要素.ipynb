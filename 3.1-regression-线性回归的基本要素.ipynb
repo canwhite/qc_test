{
 "cells": [
  {
   "cell_type": "code",
   "execution_count": 1,
   "metadata": {},
   "outputs": [],
   "source": [
    "#总：深度学习通常基于神经网络模型逐级表示越来越抽象的概念和模式\n",
    "#我们先介绍单层神经网络：\n",
    "#线性回归和softmax回归"
   ]
  },
  {
   "cell_type": "code",
   "execution_count": 2,
   "metadata": {},
   "outputs": [],
   "source": [
    "'''\n",
    "(1)线性回归\n",
    "回归问题在实际中很常见，如预测房屋价格，气温销售额等连续值问题\n",
    "(2)softmax\n",
    "与回归问题不同，分类问题中模型的最终输出是一个离散值，softmax适用于分类问题，也就是离散值问题的处理\n",
    "如我们所说的图像分类、垃圾邮件识别、疾病检测等离散值的问题\n",
    "'''"
   ]
  },
  {
   "cell_type": "code",
   "execution_count": null,
   "metadata": {},
   "outputs": [],
   "source": [
    " '''\n",
    "线性回归的基本要素\n",
    "(1)模型 ：输出和各个输入之间的线性关系，可以有权重和偏差，都是标量，模型输出是对真实值的预测\n",
    "(2)模型训练：需要通过数据来寻找特定的模型参数值，尽量减少误差；模型训练涉及三个要素：\n",
    "    1.数据训练集合 （一条数据叫做一个样本，其真实售出数据叫做标签，变量叫做特征）\n",
    "    2.损失函数（将衡量误差的函数称为损失函数，平方误差也称为平方损失，我们希望找到的是模型参数）\n",
    "    3.优化算法 \n",
    "        A：解析解（可以描述，相对简单，像线性回归和平方误差，较少满足）\n",
    "        B：数值解（需要优化算法：有限次迭代模型参数来降低误差）\n",
    "        \n",
    "        小批量随机梯度下降（常用）：\n",
    "        \n",
    "        算法很简单，先随机选取模型参数初始值，接下来，对参数进行多次迭代，\n",
    "        使每次迭代都可能降低损失函数的值\n",
    "        \n",
    "        ==每次迭代都有一个小批量样本\n",
    "        ==求平均损失有关模型参数的导数(梯度)，可以看作两个数相乘的导数\n",
    "        ==用这个梯度乘学习率作为减小量，用相对模型参数的值减去它\n",
    "        超参数：批量样本和学习率是人为设置的\n",
    "        所谓调参，就是调它\n",
    "        \n",
    "(3)模型预测 ：训练完成后，得到最优解的近似解来预测数据\n",
    "    \n",
    "    \n",
    "'''"
   ]
  }
 ],
 "metadata": {
  "kernelspec": {
   "display_name": "Python 3",
   "language": "python",
   "name": "python3"
  },
  "language_info": {
   "codemirror_mode": {
    "name": "ipython",
    "version": 3
   },
   "file_extension": ".py",
   "mimetype": "text/x-python",
   "name": "python",
   "nbconvert_exporter": "python",
   "pygments_lexer": "ipython3",
   "version": "3.7.6"
  }
 },
 "nbformat": 4,
 "nbformat_minor": 4
}
