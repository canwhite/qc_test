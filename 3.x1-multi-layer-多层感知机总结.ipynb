{
 "cells": [
  {
   "cell_type": "code",
   "execution_count": null,
   "metadata": {},
   "outputs": [],
   "source": [
    "'''\n",
    "概念：\n",
    "多层感知机就是含有至少一个隐藏层的由全连接层组成的神经网络，且每个隐藏层的输出通过激活函数进行变换\n",
    "多层感知机中的层数 and 隐藏层中的隐藏单元个数都是超参数\n",
    "H = ϕ(XWh + bh),\n",
    "O = HWo + bo,\n",
    "\n",
    "其中ϕ表⽰激活函数。\n",
    "\n",
    "\n",
    "\n",
    "在分类问题中：\n",
    "们可以对输出O做softmax运算，并使⽤softmax回归中的交叉熵损失函数。\n",
    "\n",
    "在回归问题中：\n",
    "们将输出层的输出个数设为1，并将输出O直接提供给线性回归中使⽤的平⽅损失函数。\n",
    "==============================================================\n",
    "\n",
    "\n",
    "• 常⽤的激活函数包括ReLU函数、sigmoid函数和tanh函数。\n",
    "\n",
    "\n",
    "'''"
   ]
  }
 ],
 "metadata": {
  "kernelspec": {
   "display_name": "Python 3",
   "language": "python",
   "name": "python3"
  },
  "language_info": {
   "codemirror_mode": {
    "name": "ipython",
    "version": 3
   },
   "file_extension": ".py",
   "mimetype": "text/x-python",
   "name": "python",
   "nbconvert_exporter": "python",
   "pygments_lexer": "ipython3",
   "version": "3.7.6"
  }
 },
 "nbformat": 4,
 "nbformat_minor": 4
}
