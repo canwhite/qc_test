{
 "cells": [
  {
   "cell_type": "code",
   "execution_count": 36,
   "metadata": {},
   "outputs": [],
   "source": [
    "from mxnet import nd;"
   ]
  },
  {
   "cell_type": "code",
   "execution_count": 37,
   "metadata": {},
   "outputs": [
    {
     "name": "stdout",
     "output_type": "stream",
     "text": [
      "25\n"
     ]
    }
   ],
   "source": [
    "#接下来进行一些运算操作\n",
    "x=nd.arange(12);\n",
    "x\n",
    "\n",
    "#5行一列都为1\n",
    "b = nd.ones((5,1))\n",
    "b\n",
    "\n",
    "#如何平方\n",
    "c = 5\n",
    "d = c**2\n",
    "print(d)\n"
   ]
  },
  {
   "cell_type": "code",
   "execution_count": 38,
   "metadata": {},
   "outputs": [
    {
     "name": "stdout",
     "output_type": "stream",
     "text": [
      "\n",
      "[[ 0.  1.  2.  3.]\n",
      " [ 4.  5.  6.  7.]\n",
      " [ 8.  9. 10. 11.]]\n",
      "<NDArray 3x4 @cpu(0)>\n",
      "\n",
      "[ 2.  6. 10.]\n",
      "<NDArray 3 @cpu(0)>\n",
      "\n",
      "[ 8.  9. 10. 11.]\n",
      "<NDArray 4 @cpu(0)>\n",
      "\n",
      "[[0. 1. 2. 3.]\n",
      " [4. 5. 6. 7.]]\n",
      "<NDArray 2x4 @cpu(0)>\n",
      "\n",
      "[[ 8.  9. 10. 11.]]\n",
      "<NDArray 1x4 @cpu(0)>\n"
     ]
    }
   ],
   "source": [
    "#先搞一个大写的三行四列的X\n",
    "X=x.reshape((3,4));\n",
    "X\n",
    "# X=x.reshape((-1,7));\n",
    "# X\n",
    "# 如果能满足这么多列，就全部显示，不满足就少显示一行\n",
    "# 结果:\n",
    "# [[0. 1. 2. 3. 4. 5. 6.]]\n",
    "# <NDArray 1x7 @cpu(0)>\n",
    "print(X)\n",
    "\n",
    "\n",
    "\n",
    "# : 的理解====================重要，\n",
    "\n",
    "print(X[:,2]) #[ 2.  6. 10.] #行全选，列选择第二列\n",
    "print(X[2,:]) #[ 8.  9. 10. 11.] #取第三行，列全选\n",
    "print(X[:2,:]) #列全选，因为行是一个区间，左闭右开，左右只取前两个\n",
    "print(X[2:,:]) #列全选，因为行是一个区间，左闭右开，左右只取前两个\n",
    "\n"
   ]
  },
  {
   "cell_type": "code",
   "execution_count": 39,
   "metadata": {},
   "outputs": [
    {
     "data": {
      "text/plain": [
       "\n",
       "[[2. 1. 4. 3.]\n",
       " [2. 1. 4. 3.]\n",
       " [2. 1. 4. 3.]]\n",
       "<NDArray 3x4 @cpu(0)>"
      ]
     },
     "execution_count": 39,
     "metadata": {},
     "output_type": "execute_result"
    }
   ],
   "source": [
    "#再搞一个Y\n",
    "Y=nd.array([[2,1,4,3],[2,1,4,3],[2,1,4,3]]);\n",
    "Y"
   ]
  },
  {
   "cell_type": "code",
   "execution_count": 40,
   "metadata": {},
   "outputs": [
    {
     "data": {
      "text/plain": [
       "\n",
       "[[ 0.  1.  8.  9.]\n",
       " [ 8.  5. 24. 21.]\n",
       " [16.  9. 40. 33.]]\n",
       "<NDArray 3x4 @cpu(0)>"
      ]
     },
     "execution_count": 40,
     "metadata": {},
     "output_type": "execute_result"
    }
   ],
   "source": [
    "#然后我们看下元素乘法\n",
    "X*Y"
   ]
  },
  {
   "cell_type": "code",
   "execution_count": 41,
   "metadata": {},
   "outputs": [
    {
     "data": {
      "text/plain": [
       "\n",
       "[[0.        1.        0.5       1.       ]\n",
       " [2.        5.        1.5       2.3333333]\n",
       " [4.        9.        2.5       3.6666667]]\n",
       "<NDArray 3x4 @cpu(0)>"
      ]
     },
     "execution_count": 41,
     "metadata": {},
     "output_type": "execute_result"
    }
   ],
   "source": [
    "#然后我们看下元素除法\n",
    "X/Y"
   ]
  },
  {
   "cell_type": "code",
   "execution_count": 42,
   "metadata": {},
   "outputs": [
    {
     "data": {
      "text/plain": [
       "\n",
       "[[ 7.389056   2.7182817 54.59815   20.085537 ]\n",
       " [ 7.389056   2.7182817 54.59815   20.085537 ]\n",
       " [ 7.389056   2.7182817 54.59815   20.085537 ]]\n",
       "<NDArray 3x4 @cpu(0)>"
      ]
     },
     "execution_count": 42,
     "metadata": {},
     "output_type": "execute_result"
    }
   ],
   "source": [
    "#按元素做指数运算\n",
    "Y.exp()"
   ]
  },
  {
   "cell_type": "code",
   "execution_count": 43,
   "metadata": {},
   "outputs": [
    {
     "data": {
      "text/plain": [
       "\n",
       "[[18. 18. 18.]\n",
       " [58. 58. 58.]\n",
       " [98. 98. 98.]]\n",
       "<NDArray 3x3 @cpu(0)>"
      ]
     },
     "execution_count": 43,
     "metadata": {},
     "output_type": "execute_result"
    }
   ],
   "source": [
    "#做矩阵乘法\n",
    "#由于X是3行4列的矩阵，Y转置为4行3列的，\n",
    "#两矩阵想乘可以得到三行三列的矩阵\n",
    "nd.dot(X,Y.T)"
   ]
  },
  {
   "cell_type": "code",
   "execution_count": 44,
   "metadata": {},
   "outputs": [
    {
     "data": {
      "text/plain": [
       "\n",
       "[[ 0.  1.  2.  3.]\n",
       " [ 4.  5.  6.  7.]\n",
       " [ 8.  9. 10. 11.]\n",
       " [ 2.  1.  4.  3.]\n",
       " [ 2.  1.  4.  3.]\n",
       " [ 2.  1.  4.  3.]]\n",
       "<NDArray 6x4 @cpu(0)>"
      ]
     },
     "execution_count": 44,
     "metadata": {},
     "output_type": "execute_result"
    }
   ],
   "source": [
    "#两个矩阵的链接，有纬度0和纬度1的区分\n",
    "#首先是纬度0\n",
    "nd.concat(X,Y,dim=0)"
   ]
  },
  {
   "cell_type": "code",
   "execution_count": 45,
   "metadata": {},
   "outputs": [
    {
     "data": {
      "text/plain": [
       "\n",
       "[[ 0.  1.  2.  3.  2.  1.  4.  3.]\n",
       " [ 4.  5.  6.  7.  2.  1.  4.  3.]\n",
       " [ 8.  9. 10. 11.  2.  1.  4.  3.]]\n",
       "<NDArray 3x8 @cpu(0)>"
      ]
     },
     "execution_count": 45,
     "metadata": {},
     "output_type": "execute_result"
    }
   ],
   "source": [
    "#然后是纬度1\n",
    "nd.concat(X,Y,dim=1)"
   ]
  },
  {
   "cell_type": "code",
   "execution_count": 46,
   "metadata": {},
   "outputs": [
    {
     "data": {
      "text/plain": [
       "\n",
       "[[0. 1. 0. 1.]\n",
       " [0. 0. 0. 0.]\n",
       " [0. 0. 0. 0.]]\n",
       "<NDArray 3x4 @cpu(0)>"
      ]
     },
     "execution_count": 46,
     "metadata": {},
     "output_type": "execute_result"
    }
   ],
   "source": [
    "#条件判断式可以产生新的元素为1的NDArray，如果相同位置的值为相等，则返回1，反之返回0\n",
    "X==Y"
   ]
  },
  {
   "cell_type": "code",
   "execution_count": 47,
   "metadata": {},
   "outputs": [
    {
     "data": {
      "text/plain": [
       "\n",
       "[66.]\n",
       "<NDArray 1 @cpu(0)>"
      ]
     },
     "execution_count": 47,
     "metadata": {},
     "output_type": "execute_result"
    }
   ],
   "source": [
    "#对所有元素求和，得到只有一个元素的NDArray\n",
    "X.sum()\n"
   ]
  },
  {
   "cell_type": "code",
   "execution_count": 48,
   "metadata": {},
   "outputs": [
    {
     "data": {
      "text/plain": [
       "\n",
       "[22.494442]\n",
       "<NDArray 1 @cpu(0)>"
      ]
     },
     "execution_count": 48,
     "metadata": {},
     "output_type": "execute_result"
    }
   ],
   "source": [
    "#L2范数，范数的意义是为了反应距离，normal,得到只有一个元素的NDArray\n",
    "X.norm()"
   ]
  },
  {
   "cell_type": "code",
   "execution_count": 49,
   "metadata": {},
   "outputs": [
    {
     "data": {
      "text/plain": [
       "22.494442"
      ]
     },
     "execution_count": 49,
     "metadata": {},
     "output_type": "execute_result"
    }
   ],
   "source": [
    "#我们可以使用asscalar将结果换为python中的标量\n",
    "#从一个数组样式转换成标量\n",
    "X.norm().asscalar()\n"
   ]
  },
  {
   "cell_type": "code",
   "execution_count": 34,
   "metadata": {},
   "outputs": [
    {
     "data": {
      "text/plain": [
       "\n",
       "[[  0.   1.   2.   3.   0.   1.   4.   9.]\n",
       " [  4.   5.   6.   7.  16.  25.  36.  49.]\n",
       " [  8.   9.  10.  11.  64.  81. 100. 121.]]\n",
       "<NDArray 3x8 @cpu(0)>"
      ]
     },
     "execution_count": 34,
     "metadata": {},
     "output_type": "execute_result"
    }
   ],
   "source": [
    "Z = x.reshape(3,4);\n",
    "#(1)concat将两个数组链接在一起，dim默认为0是横着排列的\n",
    "#(2)power是将Z每一位取2次方得到的数组\n",
    "W = nd.concat(Z,nd.power(Z,2))\n",
    "W"
   ]
  },
  {
   "cell_type": "code",
   "execution_count": 35,
   "metadata": {},
   "outputs": [
    {
     "data": {
      "text/plain": [
       "\n",
       "[[-0.06810644 -0.01353156  0.03772314  0.04101646]\n",
       " [ 0.05712682 -0.27579626  0.107628   -0.06141325]\n",
       " [ 0.18307649 -0.11468065  0.00538379 -0.25074807]]\n",
       "<NDArray 3x4 @cpu(0)>"
      ]
     },
     "execution_count": 35,
     "metadata": {},
     "output_type": "execute_result"
    }
   ],
   "source": [
    "#在正太分布区间中生成值\n",
    "labels = nd.random.normal(scale=0.1,shape=(3,4))\n",
    "labels"
   ]
  },
  {
   "cell_type": "code",
   "execution_count": null,
   "metadata": {},
   "outputs": [],
   "source": []
  }
 ],
 "metadata": {
  "kernelspec": {
   "display_name": "Python 3",
   "language": "python",
   "name": "python3"
  },
  "language_info": {
   "codemirror_mode": {
    "name": "ipython",
    "version": 3
   },
   "file_extension": ".py",
   "mimetype": "text/x-python",
   "name": "python",
   "nbconvert_exporter": "python",
   "pygments_lexer": "ipython3",
   "version": "3.7.6"
  }
 },
 "nbformat": 4,
 "nbformat_minor": 4
}
