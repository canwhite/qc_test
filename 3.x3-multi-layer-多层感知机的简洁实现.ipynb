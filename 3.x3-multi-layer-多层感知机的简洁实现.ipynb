{
 "cells": [
  {
   "cell_type": "code",
   "execution_count": 3,
   "metadata": {},
   "outputs": [],
   "source": [
    "import d2lzh as d2l\n",
    "from mxnet import gluon,init\n",
    "from mxnet.gluon import loss as gloss, nn"
   ]
  },
  {
   "cell_type": "code",
   "execution_count": 4,
   "metadata": {},
   "outputs": [],
   "source": [
    "net = nn.Sequential()\n",
    "#添加层确定输出\n",
    "net.add(nn.Dense(256, activation='relu'),\n",
    "nn.Dense(10))\n",
    "#初始化模型参数\n",
    "net.initialize(init.Normal(sigma=0.01))\n"
   ]
  },
  {
   "cell_type": "code",
   "execution_count": 5,
   "metadata": {},
   "outputs": [
    {
     "name": "stdout",
     "output_type": "stream",
     "text": [
      "epoch 1, loss 0.8012, train acc 0.702, test acc 0.824\n",
      "epoch 2, loss 0.4906, train acc 0.818, test acc 0.847\n",
      "epoch 3, loss 0.4275, train acc 0.842, test acc 0.855\n",
      "epoch 4, loss 0.3927, train acc 0.855, test acc 0.869\n",
      "epoch 5, loss 0.3707, train acc 0.863, test acc 0.870\n"
     ]
    }
   ],
   "source": [
    "batch_size = 256\n",
    "#模型数据\n",
    "train_iter, test_iter = d2l.load_data_fashion_mnist(batch_size)\n",
    "#损失函数\n",
    "loss = gloss.SoftmaxCrossEntropyLoss()\n",
    "#优化算法\n",
    "trainer = gluon.Trainer(net.collect_params(), 'sgd', {'learning_rate': 0.5})\n",
    "#训练周期\n",
    "num_epochs = 5\n",
    "#开始训练\n",
    "d2l.train_ch3(net, train_iter, test_iter, loss, num_epochs, batch_size, None,\n",
    "None, trainer)\n"
   ]
  },
  {
   "cell_type": "code",
   "execution_count": null,
   "metadata": {},
   "outputs": [],
   "source": []
  }
 ],
 "metadata": {
  "kernelspec": {
   "display_name": "Python 3",
   "language": "python",
   "name": "python3"
  },
  "language_info": {
   "codemirror_mode": {
    "name": "ipython",
    "version": 3
   },
   "file_extension": ".py",
   "mimetype": "text/x-python",
   "name": "python",
   "nbconvert_exporter": "python",
   "pygments_lexer": "ipython3",
   "version": "3.7.6"
  }
 },
 "nbformat": 4,
 "nbformat_minor": 4
}
