{
 "cells": [
  {
   "cell_type": "code",
   "execution_count": 1,
   "metadata": {},
   "outputs": [
    {
     "data": {
      "text/plain": [
       "'\\n欠拟合：训练误差比较大\\n\\n过拟合：训练误差远小于泛化误差，泛化误差开始变大\\n\\n\\n虽然有很多原因导致两种拟合问题，但是这里重点讨论两个因素：\\n\\n（1）模型复杂度\\n（2）训练数据集大小\\n\\n'"
      ]
     },
     "execution_count": 1,
     "metadata": {},
     "output_type": "execute_result"
    }
   ],
   "source": [
    "'''\n",
    "欠拟合：训练误差比较大\n",
    "\n",
    "过拟合：训练误差远小于泛化误差，泛化误差开始变大\n",
    "\n",
    "\n",
    "虽然有很多原因导致两种拟合问题，但是这里重点讨论两个因素：\n",
    "\n",
    "（1）模型复杂度\n",
    "（2）训练数据集大小\n",
    "====================================================\n",
    "\n",
    "(1)模型复杂度\n",
    "\n",
    "给定训练数据集：\n",
    "\n",
    "如果模型的复杂度过低，很容易出现欠拟合。\n",
    "如果模型复杂度过高，很容易出现过拟合\n",
    "\n",
    "模型参数越多，模型函数的选择空间更⼤，训练时就更容易得到好的训练结果\n",
    "\n",
    "\n",
    "(2)训练数据集的大小\n",
    "\n",
    "样本数越少，过拟合更容易发生\n",
    "\n",
    "但是泛化误差不会随着训练数据集中的样本数量增加而增大\n",
    "\n",
    "所以我们通常希望训练数据集大一些\n",
    "\n",
    "\n",
    "\n",
    "\n",
    "'''"
   ]
  },
  {
   "cell_type": "code",
   "execution_count": null,
   "metadata": {},
   "outputs": [],
   "source": []
  }
 ],
 "metadata": {
  "kernelspec": {
   "display_name": "Python 3",
   "language": "python",
   "name": "python3"
  },
  "language_info": {
   "codemirror_mode": {
    "name": "ipython",
    "version": 3
   },
   "file_extension": ".py",
   "mimetype": "text/x-python",
   "name": "python",
   "nbconvert_exporter": "python",
   "pygments_lexer": "ipython3",
   "version": "3.7.6"
  }
 },
 "nbformat": 4,
 "nbformat_minor": 4
}
