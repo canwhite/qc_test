{
 "cells": [
  {
   "cell_type": "code",
   "execution_count": null,
   "metadata": {},
   "outputs": [],
   "source": [
    "'''\n",
    "1.隐藏层\n",
    "\n",
    "在输入和输出之间引入了一个或者多个隐藏层\n",
    "\n",
    "隐藏层里边的元素叫做隐藏单元\n",
    "\n",
    "=====================================\n",
    "\n",
    "输入层和隐藏层是全连接方法，在这里隐藏层是作为输出存在的\n",
    "\n",
    "隐藏层和输出层之间，隐藏层的输出直接作为输出层的输入\n",
    "\n",
    "H = XWh + bh,\n",
    "O = HWo + bo,\n",
    "\n",
    "\n",
    "#如果将两个式子联立起来，我们可以得到一个联立后的公式\n",
    "\n",
    "\n",
    "O = (XWh + bh)Wo + bo = XWhWo + bhWo + bo.\n",
    "\n",
    "\n",
    "总结：\n",
    "\n",
    "从联立后的式子可以看出，虽然神经网络引入了隐藏层，但依然可以等价于一个单层神经网络\n",
    "\n",
    "输出层权重参数为WhWo\n",
    "\n",
    "偏差参数为：bhWo + bo.\n",
    "\n",
    "不难发现，即便再添加更多的隐藏层，以上涉及依然只能仅含输出层的单层神经网络等价\n",
    "\n",
    "\n",
    "'''"
   ]
  },
  {
   "cell_type": "code",
   "execution_count": null,
   "metadata": {},
   "outputs": [],
   "source": [
    "'''\n",
    "softmax回归跟线性回归⼀样将输⼊特征与权重做线性叠加。与线性回归的⼀个主要不同在于，\n",
    "softmax回归的输出值个数等于标签⾥的类别数。因为⼀共有4种特征和3种输出动物类别，所以\n",
    "权重包含12个标量（带下标的w）、偏差包含3个标量（带下标的b），且对每个输⼊计算o1, o2, o3这3个\n",
    "输出：\n",
    "o1 = x1w11 + x2w21 + x3w31 + x4w41 + b1,\n",
    "o2 = x1w12 + x2w22 + x3w32 + x4w42 + b2,\n",
    "o3 = x1w13 + x2w23 + x3w33 + x4w43 + b3.\n",
    "\n",
    "\n",
    "\n",
    "\n",
    "\n",
    "'''"
   ]
  }
 ],
 "metadata": {
  "kernelspec": {
   "display_name": "Python 3",
   "language": "python",
   "name": "python3"
  },
  "language_info": {
   "codemirror_mode": {
    "name": "ipython",
    "version": 3
   },
   "file_extension": ".py",
   "mimetype": "text/x-python",
   "name": "python",
   "nbconvert_exporter": "python",
   "pygments_lexer": "ipython3",
   "version": "3.7.6"
  }
 },
 "nbformat": 4,
 "nbformat_minor": 4
}
