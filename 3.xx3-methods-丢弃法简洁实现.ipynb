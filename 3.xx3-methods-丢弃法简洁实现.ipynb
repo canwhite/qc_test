{
 "cells": [
  {
   "cell_type": "code",
   "execution_count": 19,
   "metadata": {},
   "outputs": [],
   "source": [
    "'''简洁实现'''\n",
    "#dropout函数将以drop_prob的概率，丢弃NDArray输入X中的元素\n",
    "import d2lzh as d2l\n",
    "from mxnet import autograd,gluon,init,nd\n",
    "from mxnet.gluon import loss as gloss,nn"
   ]
  },
  {
   "cell_type": "code",
   "execution_count": 20,
   "metadata": {},
   "outputs": [],
   "source": [
    "'''定义模型'''\n",
    "drop_prob1,drop_prob2,lr,num_epochs,batch_size = 0.2,0.5,0.5,5,256\n",
    "#创建对象\n",
    "net = nn.Sequential()\n",
    "#添加层\n",
    "net.add(nn.Dense(256,activation=\"relu\"),\n",
    "        nn.Dropout(drop_prob1),#在第一个连接层后添加丢弃层\n",
    "        nn.Dense(256,activation=\"relu\"),\n",
    "        nn.Dropout(drop_prob2),#在第二个全连接层之后创建丢弃层\n",
    "        nn.Dense(10)\n",
    "       )\n",
    "#初始化\n",
    "net.initialize(init.Normal(sigma=0.01))"
   ]
  },
  {
   "cell_type": "code",
   "execution_count": 21,
   "metadata": {},
   "outputs": [
    {
     "name": "stdout",
     "output_type": "stream",
     "text": [
      "epoch 1, loss 1.1736, train acc 0.543, test acc 0.789\n",
      "epoch 2, loss 0.5880, train acc 0.780, test acc 0.814\n",
      "epoch 3, loss 0.4978, train acc 0.818, test acc 0.842\n",
      "epoch 4, loss 0.4524, train acc 0.835, test acc 0.854\n",
      "epoch 5, loss 0.4237, train acc 0.846, test acc 0.865\n"
     ]
    }
   ],
   "source": [
    "'''训练和测试模型'''\n",
    "#测试数据和训练数据，我们用的是封装之后的\n",
    "train_iter,test_iter = d2l.load_data_fashion_mnist(batch_size)\n",
    "#交叉熵损失函数SoftmaxCrossEntropyLoss()\n",
    "loss = gloss.SoftmaxCrossEntropyLoss()\n",
    "#训练函数\n",
    "trainer = gluon.Trainer(net.collect_params(),'sgd',{'learning_rate':lr})\n",
    "#开始训练\n",
    "d2l.train_ch3(net,train_iter,test_iter,loss,num_epochs,batch_size,None,None,trainer)\n"
   ]
  },
  {
   "cell_type": "code",
   "execution_count": null,
   "metadata": {},
   "outputs": [],
   "source": [
    "'''\n",
    "总结：\n",
    "1.我们可以使用丢弃法来应对过拟合\n",
    "2.丢弃法只能在训练模型中使用\n",
    "\n",
    "'''"
   ]
  }
 ],
 "metadata": {
  "kernelspec": {
   "display_name": "Python 3",
   "language": "python",
   "name": "python3"
  },
  "language_info": {
   "codemirror_mode": {
    "name": "ipython",
    "version": 3
   },
   "file_extension": ".py",
   "mimetype": "text/x-python",
   "name": "python",
   "nbconvert_exporter": "python",
   "pygments_lexer": "ipython3",
   "version": "3.7.6"
  }
 },
 "nbformat": 4,
 "nbformat_minor": 4
}
