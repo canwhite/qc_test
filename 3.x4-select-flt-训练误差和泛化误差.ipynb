{
 "cells": [
  {
   "cell_type": "code",
   "execution_count": null,
   "metadata": {},
   "outputs": [],
   "source": [
    "'''训练误差和泛化误差'''\n",
    "'''\n",
    "以高考为例来直观的解释训练误差和泛化误差的概念：\n",
    "\n",
    "训练误差可以认为是做往年高考试题（训练题）时的错误率\n",
    "\n",
    "泛化误差则是真正参加高考（测试题）时的答题错误率\n",
    "\n",
    "平时练的再好，高考的时候也不一定表现优异\n",
    "\n",
    "一般情况下，由训练数据集学到的模型参数会使模型在训练数据集上的表现\n",
    "优于或者等于在测试数据集上的表现\n",
    "\n",
    "\n",
    "\n",
    "\n",
    "'''\n",
    "\n",
    "\n"
   ]
  }
 ],
 "metadata": {
  "kernelspec": {
   "display_name": "Python 3",
   "language": "python",
   "name": "python3"
  },
  "language_info": {
   "codemirror_mode": {
    "name": "ipython",
    "version": 3
   },
   "file_extension": ".py",
   "mimetype": "text/x-python",
   "name": "python",
   "nbconvert_exporter": "python",
   "pygments_lexer": "ipython3",
   "version": "3.7.6"
  }
 },
 "nbformat": 4,
 "nbformat_minor": 4
}
